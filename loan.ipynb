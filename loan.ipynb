{
 "cells": [
  {
   "cell_type": "code",
   "execution_count": 5,
   "id": "d8ce1803-3760-4115-abcb-5682912f75a7",
   "metadata": {},
   "outputs": [],
   "source": [
    "import pandas as pd"
   ]
  },
  {
   "cell_type": "code",
   "execution_count": 6,
   "id": "88a2b415-08e9-49fe-91cf-26be7613b3d9",
   "metadata": {},
   "outputs": [],
   "source": [
    "df=pd.read_csv (\"loan_data.csv\")"
   ]
  },
  {
   "cell_type": "code",
   "execution_count": 7,
   "id": "ecbb5623-bdda-4221-a321-ae500ca514d5",
   "metadata": {},
   "outputs": [
    {
     "data": {
      "text/html": [
       "<div>\n",
       "<style scoped>\n",
       "    .dataframe tbody tr th:only-of-type {\n",
       "        vertical-align: middle;\n",
       "    }\n",
       "\n",
       "    .dataframe tbody tr th {\n",
       "        vertical-align: top;\n",
       "    }\n",
       "\n",
       "    .dataframe thead th {\n",
       "        text-align: right;\n",
       "    }\n",
       "</style>\n",
       "<table border=\"1\" class=\"dataframe\">\n",
       "  <thead>\n",
       "    <tr style=\"text-align: right;\">\n",
       "      <th></th>\n",
       "      <th>credit.policy</th>\n",
       "      <th>purpose</th>\n",
       "      <th>int.rate</th>\n",
       "      <th>installment</th>\n",
       "      <th>log.annual.inc</th>\n",
       "      <th>dti</th>\n",
       "      <th>fico</th>\n",
       "      <th>days.with.cr.line</th>\n",
       "      <th>revol.bal</th>\n",
       "      <th>revol.util</th>\n",
       "      <th>inq.last.6mths</th>\n",
       "      <th>delinq.2yrs</th>\n",
       "      <th>pub.rec</th>\n",
       "      <th>not.fully.paid</th>\n",
       "    </tr>\n",
       "  </thead>\n",
       "  <tbody>\n",
       "    <tr>\n",
       "      <th>0</th>\n",
       "      <td>1</td>\n",
       "      <td>debt_consolidation</td>\n",
       "      <td>0.1189</td>\n",
       "      <td>829.10</td>\n",
       "      <td>11.350407</td>\n",
       "      <td>19.48</td>\n",
       "      <td>737</td>\n",
       "      <td>5639.958333</td>\n",
       "      <td>28854</td>\n",
       "      <td>52.1</td>\n",
       "      <td>0</td>\n",
       "      <td>0</td>\n",
       "      <td>0</td>\n",
       "      <td>0</td>\n",
       "    </tr>\n",
       "    <tr>\n",
       "      <th>1</th>\n",
       "      <td>1</td>\n",
       "      <td>credit_card</td>\n",
       "      <td>0.1071</td>\n",
       "      <td>228.22</td>\n",
       "      <td>11.082143</td>\n",
       "      <td>14.29</td>\n",
       "      <td>707</td>\n",
       "      <td>2760.000000</td>\n",
       "      <td>33623</td>\n",
       "      <td>76.7</td>\n",
       "      <td>0</td>\n",
       "      <td>0</td>\n",
       "      <td>0</td>\n",
       "      <td>0</td>\n",
       "    </tr>\n",
       "    <tr>\n",
       "      <th>2</th>\n",
       "      <td>1</td>\n",
       "      <td>debt_consolidation</td>\n",
       "      <td>0.1357</td>\n",
       "      <td>366.86</td>\n",
       "      <td>10.373491</td>\n",
       "      <td>11.63</td>\n",
       "      <td>682</td>\n",
       "      <td>4710.000000</td>\n",
       "      <td>3511</td>\n",
       "      <td>25.6</td>\n",
       "      <td>1</td>\n",
       "      <td>0</td>\n",
       "      <td>0</td>\n",
       "      <td>0</td>\n",
       "    </tr>\n",
       "    <tr>\n",
       "      <th>3</th>\n",
       "      <td>1</td>\n",
       "      <td>debt_consolidation</td>\n",
       "      <td>0.1008</td>\n",
       "      <td>162.34</td>\n",
       "      <td>11.350407</td>\n",
       "      <td>8.10</td>\n",
       "      <td>712</td>\n",
       "      <td>2699.958333</td>\n",
       "      <td>33667</td>\n",
       "      <td>73.2</td>\n",
       "      <td>1</td>\n",
       "      <td>0</td>\n",
       "      <td>0</td>\n",
       "      <td>0</td>\n",
       "    </tr>\n",
       "    <tr>\n",
       "      <th>4</th>\n",
       "      <td>1</td>\n",
       "      <td>credit_card</td>\n",
       "      <td>0.1426</td>\n",
       "      <td>102.92</td>\n",
       "      <td>11.299732</td>\n",
       "      <td>14.97</td>\n",
       "      <td>667</td>\n",
       "      <td>4066.000000</td>\n",
       "      <td>4740</td>\n",
       "      <td>39.5</td>\n",
       "      <td>0</td>\n",
       "      <td>1</td>\n",
       "      <td>0</td>\n",
       "      <td>0</td>\n",
       "    </tr>\n",
       "  </tbody>\n",
       "</table>\n",
       "</div>"
      ],
      "text/plain": [
       "   credit.policy             purpose  int.rate  installment  log.annual.inc  \\\n",
       "0              1  debt_consolidation    0.1189       829.10       11.350407   \n",
       "1              1         credit_card    0.1071       228.22       11.082143   \n",
       "2              1  debt_consolidation    0.1357       366.86       10.373491   \n",
       "3              1  debt_consolidation    0.1008       162.34       11.350407   \n",
       "4              1         credit_card    0.1426       102.92       11.299732   \n",
       "\n",
       "     dti  fico  days.with.cr.line  revol.bal  revol.util  inq.last.6mths  \\\n",
       "0  19.48   737        5639.958333      28854        52.1               0   \n",
       "1  14.29   707        2760.000000      33623        76.7               0   \n",
       "2  11.63   682        4710.000000       3511        25.6               1   \n",
       "3   8.10   712        2699.958333      33667        73.2               1   \n",
       "4  14.97   667        4066.000000       4740        39.5               0   \n",
       "\n",
       "   delinq.2yrs  pub.rec  not.fully.paid  \n",
       "0            0        0               0  \n",
       "1            0        0               0  \n",
       "2            0        0               0  \n",
       "3            0        0               0  \n",
       "4            1        0               0  "
      ]
     },
     "execution_count": 7,
     "metadata": {},
     "output_type": "execute_result"
    }
   ],
   "source": [
    "df.head()"
   ]
  },
  {
   "cell_type": "code",
   "execution_count": 8,
   "id": "7e784ea7-d699-44b7-97d3-ba20b43116a4",
   "metadata": {},
   "outputs": [
    {
     "name": "stdout",
     "output_type": "stream",
     "text": [
      "<class 'pandas.core.frame.DataFrame'>\n",
      "RangeIndex: 9578 entries, 0 to 9577\n",
      "Data columns (total 14 columns):\n",
      " #   Column             Non-Null Count  Dtype  \n",
      "---  ------             --------------  -----  \n",
      " 0   credit.policy      9578 non-null   int64  \n",
      " 1   purpose            9578 non-null   object \n",
      " 2   int.rate           9578 non-null   float64\n",
      " 3   installment        9578 non-null   float64\n",
      " 4   log.annual.inc     9578 non-null   float64\n",
      " 5   dti                9578 non-null   float64\n",
      " 6   fico               9578 non-null   int64  \n",
      " 7   days.with.cr.line  9578 non-null   float64\n",
      " 8   revol.bal          9578 non-null   int64  \n",
      " 9   revol.util         9578 non-null   float64\n",
      " 10  inq.last.6mths     9578 non-null   int64  \n",
      " 11  delinq.2yrs        9578 non-null   int64  \n",
      " 12  pub.rec            9578 non-null   int64  \n",
      " 13  not.fully.paid     9578 non-null   int64  \n",
      "dtypes: float64(6), int64(7), object(1)\n",
      "memory usage: 1.0+ MB\n"
     ]
    }
   ],
   "source": [
    "df.info()"
   ]
  },
  {
   "cell_type": "code",
   "execution_count": 9,
   "id": "2fee8b9e-2ff9-47af-ae0f-3096ecfee531",
   "metadata": {},
   "outputs": [
    {
     "data": {
      "text/plain": [
       "credit.policy        0\n",
       "purpose              0\n",
       "int.rate             0\n",
       "installment          0\n",
       "log.annual.inc       0\n",
       "dti                  0\n",
       "fico                 0\n",
       "days.with.cr.line    0\n",
       "revol.bal            0\n",
       "revol.util           0\n",
       "inq.last.6mths       0\n",
       "delinq.2yrs          0\n",
       "pub.rec              0\n",
       "not.fully.paid       0\n",
       "dtype: int64"
      ]
     },
     "execution_count": 9,
     "metadata": {},
     "output_type": "execute_result"
    }
   ],
   "source": [
    "df.isna().sum()"
   ]
  },
  {
   "cell_type": "code",
   "execution_count": 10,
   "id": "3508c26d-ca90-40e6-a6f4-23fe1bcd6aa2",
   "metadata": {},
   "outputs": [
    {
     "data": {
      "text/html": [
       "<div>\n",
       "<style scoped>\n",
       "    .dataframe tbody tr th:only-of-type {\n",
       "        vertical-align: middle;\n",
       "    }\n",
       "\n",
       "    .dataframe tbody tr th {\n",
       "        vertical-align: top;\n",
       "    }\n",
       "\n",
       "    .dataframe thead th {\n",
       "        text-align: right;\n",
       "    }\n",
       "</style>\n",
       "<table border=\"1\" class=\"dataframe\">\n",
       "  <thead>\n",
       "    <tr style=\"text-align: right;\">\n",
       "      <th></th>\n",
       "      <th>credit.policy</th>\n",
       "      <th>int.rate</th>\n",
       "      <th>installment</th>\n",
       "      <th>log.annual.inc</th>\n",
       "      <th>dti</th>\n",
       "      <th>fico</th>\n",
       "      <th>days.with.cr.line</th>\n",
       "      <th>revol.bal</th>\n",
       "      <th>revol.util</th>\n",
       "      <th>inq.last.6mths</th>\n",
       "      <th>delinq.2yrs</th>\n",
       "      <th>pub.rec</th>\n",
       "      <th>not.fully.paid</th>\n",
       "    </tr>\n",
       "  </thead>\n",
       "  <tbody>\n",
       "    <tr>\n",
       "      <th>count</th>\n",
       "      <td>9578.000000</td>\n",
       "      <td>9578.000000</td>\n",
       "      <td>9578.000000</td>\n",
       "      <td>9578.000000</td>\n",
       "      <td>9578.000000</td>\n",
       "      <td>9578.000000</td>\n",
       "      <td>9578.000000</td>\n",
       "      <td>9.578000e+03</td>\n",
       "      <td>9578.000000</td>\n",
       "      <td>9578.000000</td>\n",
       "      <td>9578.000000</td>\n",
       "      <td>9578.000000</td>\n",
       "      <td>9578.000000</td>\n",
       "    </tr>\n",
       "    <tr>\n",
       "      <th>mean</th>\n",
       "      <td>0.804970</td>\n",
       "      <td>0.122640</td>\n",
       "      <td>319.089413</td>\n",
       "      <td>10.932117</td>\n",
       "      <td>12.606679</td>\n",
       "      <td>710.846314</td>\n",
       "      <td>4560.767197</td>\n",
       "      <td>1.691396e+04</td>\n",
       "      <td>46.799236</td>\n",
       "      <td>1.577469</td>\n",
       "      <td>0.163708</td>\n",
       "      <td>0.062122</td>\n",
       "      <td>0.160054</td>\n",
       "    </tr>\n",
       "    <tr>\n",
       "      <th>std</th>\n",
       "      <td>0.396245</td>\n",
       "      <td>0.026847</td>\n",
       "      <td>207.071301</td>\n",
       "      <td>0.614813</td>\n",
       "      <td>6.883970</td>\n",
       "      <td>37.970537</td>\n",
       "      <td>2496.930377</td>\n",
       "      <td>3.375619e+04</td>\n",
       "      <td>29.014417</td>\n",
       "      <td>2.200245</td>\n",
       "      <td>0.546215</td>\n",
       "      <td>0.262126</td>\n",
       "      <td>0.366676</td>\n",
       "    </tr>\n",
       "    <tr>\n",
       "      <th>min</th>\n",
       "      <td>0.000000</td>\n",
       "      <td>0.060000</td>\n",
       "      <td>15.670000</td>\n",
       "      <td>7.547502</td>\n",
       "      <td>0.000000</td>\n",
       "      <td>612.000000</td>\n",
       "      <td>178.958333</td>\n",
       "      <td>0.000000e+00</td>\n",
       "      <td>0.000000</td>\n",
       "      <td>0.000000</td>\n",
       "      <td>0.000000</td>\n",
       "      <td>0.000000</td>\n",
       "      <td>0.000000</td>\n",
       "    </tr>\n",
       "    <tr>\n",
       "      <th>25%</th>\n",
       "      <td>1.000000</td>\n",
       "      <td>0.103900</td>\n",
       "      <td>163.770000</td>\n",
       "      <td>10.558414</td>\n",
       "      <td>7.212500</td>\n",
       "      <td>682.000000</td>\n",
       "      <td>2820.000000</td>\n",
       "      <td>3.187000e+03</td>\n",
       "      <td>22.600000</td>\n",
       "      <td>0.000000</td>\n",
       "      <td>0.000000</td>\n",
       "      <td>0.000000</td>\n",
       "      <td>0.000000</td>\n",
       "    </tr>\n",
       "    <tr>\n",
       "      <th>50%</th>\n",
       "      <td>1.000000</td>\n",
       "      <td>0.122100</td>\n",
       "      <td>268.950000</td>\n",
       "      <td>10.928884</td>\n",
       "      <td>12.665000</td>\n",
       "      <td>707.000000</td>\n",
       "      <td>4139.958333</td>\n",
       "      <td>8.596000e+03</td>\n",
       "      <td>46.300000</td>\n",
       "      <td>1.000000</td>\n",
       "      <td>0.000000</td>\n",
       "      <td>0.000000</td>\n",
       "      <td>0.000000</td>\n",
       "    </tr>\n",
       "    <tr>\n",
       "      <th>75%</th>\n",
       "      <td>1.000000</td>\n",
       "      <td>0.140700</td>\n",
       "      <td>432.762500</td>\n",
       "      <td>11.291293</td>\n",
       "      <td>17.950000</td>\n",
       "      <td>737.000000</td>\n",
       "      <td>5730.000000</td>\n",
       "      <td>1.824950e+04</td>\n",
       "      <td>70.900000</td>\n",
       "      <td>2.000000</td>\n",
       "      <td>0.000000</td>\n",
       "      <td>0.000000</td>\n",
       "      <td>0.000000</td>\n",
       "    </tr>\n",
       "    <tr>\n",
       "      <th>max</th>\n",
       "      <td>1.000000</td>\n",
       "      <td>0.216400</td>\n",
       "      <td>940.140000</td>\n",
       "      <td>14.528354</td>\n",
       "      <td>29.960000</td>\n",
       "      <td>827.000000</td>\n",
       "      <td>17639.958330</td>\n",
       "      <td>1.207359e+06</td>\n",
       "      <td>119.000000</td>\n",
       "      <td>33.000000</td>\n",
       "      <td>13.000000</td>\n",
       "      <td>5.000000</td>\n",
       "      <td>1.000000</td>\n",
       "    </tr>\n",
       "  </tbody>\n",
       "</table>\n",
       "</div>"
      ],
      "text/plain": [
       "       credit.policy     int.rate  installment  log.annual.inc          dti  \\\n",
       "count    9578.000000  9578.000000  9578.000000     9578.000000  9578.000000   \n",
       "mean        0.804970     0.122640   319.089413       10.932117    12.606679   \n",
       "std         0.396245     0.026847   207.071301        0.614813     6.883970   \n",
       "min         0.000000     0.060000    15.670000        7.547502     0.000000   \n",
       "25%         1.000000     0.103900   163.770000       10.558414     7.212500   \n",
       "50%         1.000000     0.122100   268.950000       10.928884    12.665000   \n",
       "75%         1.000000     0.140700   432.762500       11.291293    17.950000   \n",
       "max         1.000000     0.216400   940.140000       14.528354    29.960000   \n",
       "\n",
       "              fico  days.with.cr.line     revol.bal   revol.util  \\\n",
       "count  9578.000000        9578.000000  9.578000e+03  9578.000000   \n",
       "mean    710.846314        4560.767197  1.691396e+04    46.799236   \n",
       "std      37.970537        2496.930377  3.375619e+04    29.014417   \n",
       "min     612.000000         178.958333  0.000000e+00     0.000000   \n",
       "25%     682.000000        2820.000000  3.187000e+03    22.600000   \n",
       "50%     707.000000        4139.958333  8.596000e+03    46.300000   \n",
       "75%     737.000000        5730.000000  1.824950e+04    70.900000   \n",
       "max     827.000000       17639.958330  1.207359e+06   119.000000   \n",
       "\n",
       "       inq.last.6mths  delinq.2yrs      pub.rec  not.fully.paid  \n",
       "count     9578.000000  9578.000000  9578.000000     9578.000000  \n",
       "mean         1.577469     0.163708     0.062122        0.160054  \n",
       "std          2.200245     0.546215     0.262126        0.366676  \n",
       "min          0.000000     0.000000     0.000000        0.000000  \n",
       "25%          0.000000     0.000000     0.000000        0.000000  \n",
       "50%          1.000000     0.000000     0.000000        0.000000  \n",
       "75%          2.000000     0.000000     0.000000        0.000000  \n",
       "max         33.000000    13.000000     5.000000        1.000000  "
      ]
     },
     "execution_count": 10,
     "metadata": {},
     "output_type": "execute_result"
    }
   ],
   "source": [
    "df.describe()"
   ]
  },
  {
   "cell_type": "code",
   "execution_count": 11,
   "id": "790776ab-0a69-4369-8d4d-d561c9362326",
   "metadata": {},
   "outputs": [
    {
     "data": {
      "text/plain": [
       "credit.policy        9578\n",
       "purpose              9578\n",
       "int.rate             9578\n",
       "installment          9578\n",
       "log.annual.inc       9578\n",
       "dti                  9578\n",
       "fico                 9578\n",
       "days.with.cr.line    9578\n",
       "revol.bal            9578\n",
       "revol.util           9578\n",
       "inq.last.6mths       9578\n",
       "delinq.2yrs          9578\n",
       "pub.rec              9578\n",
       "not.fully.paid       9578\n",
       "dtype: int64"
      ]
     },
     "execution_count": 11,
     "metadata": {},
     "output_type": "execute_result"
    }
   ],
   "source": [
    "df.count()"
   ]
  },
  {
   "cell_type": "markdown",
   "id": "813aa624-4dd4-4499-b87d-8a3600d9849f",
   "metadata": {},
   "source": [
    "# 1-what is the most number repeated in the installment?"
   ]
  },
  {
   "cell_type": "code",
   "execution_count": 14,
   "id": "8dad5bc1-ebe3-4951-91fb-584610e9d662",
   "metadata": {},
   "outputs": [
    {
     "data": {
      "text/plain": [
       "317.72    41\n",
       "316.11    34\n",
       "319.47    29\n",
       "381.26    27\n",
       "662.68    27\n",
       "          ..\n",
       "97.53      1\n",
       "76.26      1\n",
       "150.84     1\n",
       "158.99     1\n",
       "853.43     1\n",
       "Name: installment, Length: 4788, dtype: int64"
      ]
     },
     "execution_count": 14,
     "metadata": {},
     "output_type": "execute_result"
    }
   ],
   "source": [
    "df[\"installment\"].value_counts()"
   ]
  },
  {
   "cell_type": "markdown",
   "id": "9587ab9b-b824-4724-ad33-a5ca399e3db7",
   "metadata": {},
   "source": [
    "# 2-what is the maximum of installment?"
   ]
  },
  {
   "cell_type": "code",
   "execution_count": 15,
   "id": "100ccdf2-d9bd-4b48-84c4-0f0d6e09a7dd",
   "metadata": {},
   "outputs": [],
   "source": [
    "x=df[\"installment\"].max()"
   ]
  },
  {
   "cell_type": "markdown",
   "id": "b0a5e2dd-575a-4d56-98ee-9e9aa3be1fd1",
   "metadata": {},
   "source": [
    "# 3-what  is the minimum of installment?"
   ]
  },
  {
   "cell_type": "code",
   "execution_count": 11,
   "id": "3e11f165-6585-40a7-ad7a-240da1e33717",
   "metadata": {},
   "outputs": [
    {
     "data": {
      "text/plain": [
       "15.67"
      ]
     },
     "execution_count": 11,
     "metadata": {},
     "output_type": "execute_result"
    }
   ],
   "source": [
    "df[\"installment\"].min()\n"
   ]
  },
  {
   "cell_type": "markdown",
   "id": "ef551ac0-e325-4139-b4cc-2cd01ff573b3",
   "metadata": {},
   "source": [
    "# 4-what is the largest 5 of installment?"
   ]
  },
  {
   "cell_type": "code",
   "execution_count": 9,
   "id": "e4cad0ef-f7cd-4ff5-b8d4-2ccbd7ab141e",
   "metadata": {},
   "outputs": [
    {
     "data": {
      "text/plain": [
       "9281    940.14\n",
       "9288    926.83\n",
       "9309    926.83\n",
       "9524    922.42\n",
       "5479    918.02\n",
       "Name: installment, dtype: float64"
      ]
     },
     "execution_count": 9,
     "metadata": {},
     "output_type": "execute_result"
    }
   ],
   "source": [
    "df[\"installment\"].nlargest()"
   ]
  },
  {
   "cell_type": "markdown",
   "id": "15efba0f-acfd-4d94-989e-918c7212d067",
   "metadata": {},
   "source": [
    "# 5-what is the smallest 5 of installment?"
   ]
  },
  {
   "cell_type": "code",
   "execution_count": 12,
   "id": "e777ceb0-c879-4a8a-a75d-c3dcd404a7b5",
   "metadata": {},
   "outputs": [
    {
     "data": {
      "text/plain": [
       "8438    15.67\n",
       "197     15.69\n",
       "8549    15.75\n",
       "7846    15.76\n",
       "7897    15.91\n",
       "Name: installment, dtype: float64"
      ]
     },
     "execution_count": 12,
     "metadata": {},
     "output_type": "execute_result"
    }
   ],
   "source": [
    "df[\"installment\"].nsmallest()"
   ]
  },
  {
   "cell_type": "markdown",
   "id": "02ce720c-44e7-4c2c-a23e-c84bd32ba9bb",
   "metadata": {},
   "source": [
    "# 6-what is the average of intallement?"
   ]
  },
  {
   "cell_type": "code",
   "execution_count": 40,
   "id": "efdea27e-1626-463d-bc9e-7f3ce0f6e536",
   "metadata": {},
   "outputs": [
    {
     "data": {
      "text/plain": [
       "319.08941323867197"
      ]
     },
     "execution_count": 40,
     "metadata": {},
     "output_type": "execute_result"
    }
   ],
   "source": [
    "df[\"installment\"].mean()"
   ]
  },
  {
   "cell_type": "markdown",
   "id": "ffaf7f21-25fe-4753-bd58-f7cb9618f1c9",
   "metadata": {},
   "source": [
    "# 7-what is the most repeated in int.rate?"
   ]
  },
  {
   "cell_type": "code",
   "execution_count": 41,
   "id": "bd355622-ccb0-4c39-a9d0-f769df4cf115",
   "metadata": {},
   "outputs": [
    {
     "data": {
      "text/plain": [
       "0.1253    354\n",
       "0.0894    299\n",
       "0.1183    243\n",
       "0.1218    215\n",
       "0.0963    210\n",
       "         ... \n",
       "0.2016      1\n",
       "0.1683      1\n",
       "0.1778      1\n",
       "0.1756      1\n",
       "0.1867      1\n",
       "Name: int.rate, Length: 249, dtype: int64"
      ]
     },
     "execution_count": 41,
     "metadata": {},
     "output_type": "execute_result"
    }
   ],
   "source": [
    "df[\"int.rate\"].value_counts()"
   ]
  },
  {
   "cell_type": "markdown",
   "id": "8509da6a-4e3a-40f9-8cef-dd3396afa809",
   "metadata": {},
   "source": [
    "# 8-what is the largest 5 in int.rate?"
   ]
  },
  {
   "cell_type": "code",
   "execution_count": 16,
   "id": "f54c24d3-1d86-401d-acc6-5c2de88efe5b",
   "metadata": {},
   "outputs": [
    {
     "data": {
      "text/plain": [
       "9549    0.2164\n",
       "9566    0.2164\n",
       "5679    0.2121\n",
       "5868    0.2121\n",
       "6202    0.2121\n",
       "Name: int.rate, dtype: float64"
      ]
     },
     "execution_count": 16,
     "metadata": {},
     "output_type": "execute_result"
    }
   ],
   "source": [
    "df[\"int.rate\"].nlargest()"
   ]
  },
  {
   "cell_type": "markdown",
   "id": "e915bbbe-6232-40ac-b376-55cb31f9e48d",
   "metadata": {},
   "source": [
    "# 9-  what is the samallest 5 in int.rate?"
   ]
  },
  {
   "cell_type": "code",
   "execution_count": 17,
   "id": "e2a9e875-a2a4-40c4-928b-49b4c3e6fbbd",
   "metadata": {},
   "outputs": [
    {
     "data": {
      "text/plain": [
       "453     0.06\n",
       "1031    0.06\n",
       "1400    0.06\n",
       "1796    0.06\n",
       "2738    0.06\n",
       "Name: int.rate, dtype: float64"
      ]
     },
     "execution_count": 17,
     "metadata": {},
     "output_type": "execute_result"
    }
   ],
   "source": [
    "df[\"int.rate\"].nsmallest()"
   ]
  },
  {
   "cell_type": "markdown",
   "id": "836725c9-aa37-44a2-9d43-7f11ade33707",
   "metadata": {},
   "source": [
    "# 10-what is the mean of int.rate?"
   ]
  },
  {
   "cell_type": "code",
   "execution_count": 28,
   "id": "c0a6efa4-a96e-431d-98bc-8d75af8a4f6b",
   "metadata": {},
   "outputs": [
    {
     "data": {
      "text/plain": [
       "0.12264006055543955"
      ]
     },
     "execution_count": 28,
     "metadata": {},
     "output_type": "execute_result"
    }
   ],
   "source": [
    "df[\"int.rate\"].mean()"
   ]
  },
  {
   "cell_type": "markdown",
   "id": "1d7576f8-b99e-4440-94e2-8ca3006c024f",
   "metadata": {},
   "source": [
    "# 11-what  is the most repeated in log.annual.inc?"
   ]
  },
  {
   "cell_type": "code",
   "execution_count": 18,
   "id": "aea87aec-c0c7-45d8-9103-1e957fba0f91",
   "metadata": {},
   "outputs": [
    {
     "data": {
      "text/plain": [
       "11.002100    308\n",
       "10.819778    248\n",
       "10.308953    224\n",
       "10.596635    224\n",
       "10.714418    221\n",
       "            ... \n",
       "11.217534      1\n",
       "12.078239      1\n",
       "10.068451      1\n",
       "9.621788       1\n",
       "10.110472      1\n",
       "Name: log.annual.inc, Length: 1987, dtype: int64"
      ]
     },
     "execution_count": 18,
     "metadata": {},
     "output_type": "execute_result"
    }
   ],
   "source": [
    "df[\"log.annual.inc\"].value_counts()"
   ]
  },
  {
   "cell_type": "markdown",
   "id": "871acbbb-7374-4cef-ba76-dee6350549a2",
   "metadata": {},
   "source": [
    "# 12-what is largest 5  in log.annual.inc?"
   ]
  },
  {
   "cell_type": "code",
   "execution_count": 19,
   "id": "90fc7343-ab36-4b05-a891-bb3f15b6bb14",
   "metadata": {},
   "outputs": [
    {
     "data": {
      "text/plain": [
       "653     14.528354\n",
       "5791    14.180154\n",
       "5493    14.124465\n",
       "6371    13.997832\n",
       "5499    13.710150\n",
       "Name: log.annual.inc, dtype: float64"
      ]
     },
     "execution_count": 19,
     "metadata": {},
     "output_type": "execute_result"
    }
   ],
   "source": [
    "df[\"log.annual.inc\"].nlargest()"
   ]
  },
  {
   "cell_type": "markdown",
   "id": "c6bb5bef-ac0b-47c5-ae24-fdd3d42021d6",
   "metadata": {},
   "source": [
    "# 13-what  is smallest 5 log.annual.inc?"
   ]
  },
  {
   "cell_type": "code",
   "execution_count": 23,
   "id": "ad400638-643b-41be-af9d-7df68256d42c",
   "metadata": {},
   "outputs": [
    {
     "data": {
      "text/plain": [
       "7822    7.547502\n",
       "7897    7.600902\n",
       "8438    8.101678\n",
       "8171    8.160518\n",
       "8352    8.188689\n",
       "Name: log.annual.inc, dtype: float64"
      ]
     },
     "execution_count": 23,
     "metadata": {},
     "output_type": "execute_result"
    }
   ],
   "source": [
    "df[\"log.annual.inc\"].nsmallest()"
   ]
  },
  {
   "cell_type": "markdown",
   "id": "48f782df-0864-49b8-aab7-c6e2f85696eb",
   "metadata": {},
   "source": [
    "# 14-what is the average of log.annual.inc?"
   ]
  },
  {
   "cell_type": "code",
   "execution_count": 29,
   "id": "ad1b60fb-07a8-4d1f-b435-6a0b1621c7ef",
   "metadata": {},
   "outputs": [
    {
     "data": {
      "text/plain": [
       "10.93211713780027"
      ]
     },
     "execution_count": 29,
     "metadata": {},
     "output_type": "execute_result"
    }
   ],
   "source": [
    "df[\"log.annual.inc\"].mean()"
   ]
  },
  {
   "cell_type": "code",
   "execution_count": 20,
   "id": "b76507ab-23a7-4140-b641-b2f4f782eabe",
   "metadata": {},
   "outputs": [
    {
     "data": {
      "text/plain": [
       "0.12264006055543955"
      ]
     },
     "execution_count": 20,
     "metadata": {},
     "output_type": "execute_result"
    }
   ],
   "source": [
    "df[\"int.rate\"].mean()"
   ]
  },
  {
   "cell_type": "code",
   "execution_count": 21,
   "id": "ae77f5bc-2879-4d33-9ad0-40b83c27f601",
   "metadata": {},
   "outputs": [
    {
     "data": {
      "text/plain": [
       "319.08941323867197"
      ]
     },
     "execution_count": 21,
     "metadata": {},
     "output_type": "execute_result"
    }
   ],
   "source": [
    "df[\"installment\"].mean()"
   ]
  },
  {
   "cell_type": "code",
   "execution_count": 22,
   "id": "387cd196-4b6d-49c3-9cb5-e432e7196232",
   "metadata": {},
   "outputs": [
    {
     "data": {
      "text/plain": [
       "12.60667884735853"
      ]
     },
     "execution_count": 22,
     "metadata": {},
     "output_type": "execute_result"
    }
   ],
   "source": [
    "df[\"dti\"].mean()"
   ]
  },
  {
   "cell_type": "code",
   "execution_count": 23,
   "id": "29c43be7-6e9e-4c91-a298-9575cfdb7e19",
   "metadata": {},
   "outputs": [
    {
     "data": {
      "text/plain": [
       "710.8463144706619"
      ]
     },
     "execution_count": 23,
     "metadata": {},
     "output_type": "execute_result"
    }
   ],
   "source": [
    "df[\"fico\"].mean()"
   ]
  },
  {
   "cell_type": "code",
   "execution_count": 24,
   "id": "a0e8f8ca-cad2-46a7-a6ae-8776dddbbf26",
   "metadata": {},
   "outputs": [
    {
     "data": {
      "text/plain": [
       "4560.767196529213"
      ]
     },
     "execution_count": 24,
     "metadata": {},
     "output_type": "execute_result"
    }
   ],
   "source": [
    "df[\"days.with.cr.line\"].mean()"
   ]
  },
  {
   "cell_type": "code",
   "execution_count": 25,
   "id": "ccb69696-b0dd-48af-b2d0-6af5c56ce9a0",
   "metadata": {},
   "outputs": [
    {
     "data": {
      "text/plain": [
       "16913.963875548132"
      ]
     },
     "execution_count": 25,
     "metadata": {},
     "output_type": "execute_result"
    }
   ],
   "source": [
    "df[\"revol.bal\"].mean()"
   ]
  },
  {
   "cell_type": "code",
   "execution_count": 26,
   "id": "a53d51a3-a8fc-43ec-9090-06c8431a3704",
   "metadata": {},
   "outputs": [
    {
     "data": {
      "text/plain": [
       "46.79923574859052"
      ]
     },
     "execution_count": 26,
     "metadata": {},
     "output_type": "execute_result"
    }
   ],
   "source": [
    "df[\"revol.util\"].mean()"
   ]
  },
  {
   "cell_type": "code",
   "execution_count": 27,
   "id": "2a4d6449-f61b-49b6-a156-2a0729ef87cc",
   "metadata": {},
   "outputs": [
    {
     "data": {
      "text/plain": [
       "1.5774692002505741"
      ]
     },
     "execution_count": 27,
     "metadata": {},
     "output_type": "execute_result"
    }
   ],
   "source": [
    "df[\"inq.last.6mths\"].mean()"
   ]
  },
  {
   "cell_type": "code",
   "execution_count": 28,
   "id": "983b638d-89d0-4537-8d3f-dd2809646e40",
   "metadata": {},
   "outputs": [
    {
     "data": {
      "text/plain": [
       "0.1637084986427229"
      ]
     },
     "execution_count": 28,
     "metadata": {},
     "output_type": "execute_result"
    }
   ],
   "source": [
    "df[\"delinq.2yrs\"].mean()"
   ]
  },
  {
   "cell_type": "code",
   "execution_count": 29,
   "id": "51fa0dad-17ad-49bc-a67b-149580c4d63f",
   "metadata": {},
   "outputs": [
    {
     "data": {
      "text/plain": [
       "0.06212152850281896"
      ]
     },
     "execution_count": 29,
     "metadata": {},
     "output_type": "execute_result"
    }
   ],
   "source": [
    "df[\"pub.rec\"].mean()"
   ]
  },
  {
   "cell_type": "code",
   "execution_count": 30,
   "id": "063e0345-0976-4858-9550-8052a9f688dd",
   "metadata": {},
   "outputs": [
    {
     "data": {
      "text/plain": [
       "0.16005429108373356"
      ]
     },
     "execution_count": 30,
     "metadata": {},
     "output_type": "execute_result"
    }
   ],
   "source": [
    "df[\"not.fully.paid\"].mean()"
   ]
  },
  {
   "cell_type": "code",
   "execution_count": 27,
   "id": "313d9fea-3a30-4c04-92a2-51482c49a9c0",
   "metadata": {},
   "outputs": [
    {
     "name": "stderr",
     "output_type": "stream",
     "text": [
      "C:\\Users\\mm748\\AppData\\Local\\Temp\\ipykernel_10380\\1134722465.py:1: FutureWarning: The default value of numeric_only in DataFrame.corr is deprecated. In a future version, it will default to False. Select only valid columns or specify the value of numeric_only to silence this warning.\n",
      "  df.corr()\n"
     ]
    },
    {
     "data": {
      "text/html": [
       "<div>\n",
       "<style scoped>\n",
       "    .dataframe tbody tr th:only-of-type {\n",
       "        vertical-align: middle;\n",
       "    }\n",
       "\n",
       "    .dataframe tbody tr th {\n",
       "        vertical-align: top;\n",
       "    }\n",
       "\n",
       "    .dataframe thead th {\n",
       "        text-align: right;\n",
       "    }\n",
       "</style>\n",
       "<table border=\"1\" class=\"dataframe\">\n",
       "  <thead>\n",
       "    <tr style=\"text-align: right;\">\n",
       "      <th></th>\n",
       "      <th>credit.policy</th>\n",
       "      <th>int.rate</th>\n",
       "      <th>installment</th>\n",
       "      <th>log.annual.inc</th>\n",
       "      <th>dti</th>\n",
       "      <th>fico</th>\n",
       "      <th>days.with.cr.line</th>\n",
       "      <th>revol.bal</th>\n",
       "      <th>revol.util</th>\n",
       "      <th>inq.last.6mths</th>\n",
       "      <th>delinq.2yrs</th>\n",
       "      <th>pub.rec</th>\n",
       "      <th>not.fully.paid</th>\n",
       "    </tr>\n",
       "  </thead>\n",
       "  <tbody>\n",
       "    <tr>\n",
       "      <th>credit.policy</th>\n",
       "      <td>1.000000</td>\n",
       "      <td>-0.294089</td>\n",
       "      <td>0.058770</td>\n",
       "      <td>0.034906</td>\n",
       "      <td>-0.090901</td>\n",
       "      <td>0.348319</td>\n",
       "      <td>0.099026</td>\n",
       "      <td>-0.187518</td>\n",
       "      <td>-0.104095</td>\n",
       "      <td>-0.535511</td>\n",
       "      <td>-0.076318</td>\n",
       "      <td>-0.054243</td>\n",
       "      <td>-0.158119</td>\n",
       "    </tr>\n",
       "    <tr>\n",
       "      <th>int.rate</th>\n",
       "      <td>-0.294089</td>\n",
       "      <td>1.000000</td>\n",
       "      <td>0.276140</td>\n",
       "      <td>0.056383</td>\n",
       "      <td>0.220006</td>\n",
       "      <td>-0.714821</td>\n",
       "      <td>-0.124022</td>\n",
       "      <td>0.092527</td>\n",
       "      <td>0.464837</td>\n",
       "      <td>0.202780</td>\n",
       "      <td>0.156079</td>\n",
       "      <td>0.098162</td>\n",
       "      <td>0.159552</td>\n",
       "    </tr>\n",
       "    <tr>\n",
       "      <th>installment</th>\n",
       "      <td>0.058770</td>\n",
       "      <td>0.276140</td>\n",
       "      <td>1.000000</td>\n",
       "      <td>0.448102</td>\n",
       "      <td>0.050202</td>\n",
       "      <td>0.086039</td>\n",
       "      <td>0.183297</td>\n",
       "      <td>0.233625</td>\n",
       "      <td>0.081356</td>\n",
       "      <td>-0.010419</td>\n",
       "      <td>-0.004368</td>\n",
       "      <td>-0.032760</td>\n",
       "      <td>0.049955</td>\n",
       "    </tr>\n",
       "    <tr>\n",
       "      <th>log.annual.inc</th>\n",
       "      <td>0.034906</td>\n",
       "      <td>0.056383</td>\n",
       "      <td>0.448102</td>\n",
       "      <td>1.000000</td>\n",
       "      <td>-0.054065</td>\n",
       "      <td>0.114576</td>\n",
       "      <td>0.336896</td>\n",
       "      <td>0.372140</td>\n",
       "      <td>0.054881</td>\n",
       "      <td>0.029171</td>\n",
       "      <td>0.029203</td>\n",
       "      <td>0.016506</td>\n",
       "      <td>-0.033439</td>\n",
       "    </tr>\n",
       "    <tr>\n",
       "      <th>dti</th>\n",
       "      <td>-0.090901</td>\n",
       "      <td>0.220006</td>\n",
       "      <td>0.050202</td>\n",
       "      <td>-0.054065</td>\n",
       "      <td>1.000000</td>\n",
       "      <td>-0.241191</td>\n",
       "      <td>0.060101</td>\n",
       "      <td>0.188748</td>\n",
       "      <td>0.337109</td>\n",
       "      <td>0.029189</td>\n",
       "      <td>-0.021792</td>\n",
       "      <td>0.006209</td>\n",
       "      <td>0.037362</td>\n",
       "    </tr>\n",
       "    <tr>\n",
       "      <th>fico</th>\n",
       "      <td>0.348319</td>\n",
       "      <td>-0.714821</td>\n",
       "      <td>0.086039</td>\n",
       "      <td>0.114576</td>\n",
       "      <td>-0.241191</td>\n",
       "      <td>1.000000</td>\n",
       "      <td>0.263880</td>\n",
       "      <td>-0.015553</td>\n",
       "      <td>-0.541289</td>\n",
       "      <td>-0.185293</td>\n",
       "      <td>-0.216340</td>\n",
       "      <td>-0.147592</td>\n",
       "      <td>-0.149666</td>\n",
       "    </tr>\n",
       "    <tr>\n",
       "      <th>days.with.cr.line</th>\n",
       "      <td>0.099026</td>\n",
       "      <td>-0.124022</td>\n",
       "      <td>0.183297</td>\n",
       "      <td>0.336896</td>\n",
       "      <td>0.060101</td>\n",
       "      <td>0.263880</td>\n",
       "      <td>1.000000</td>\n",
       "      <td>0.229344</td>\n",
       "      <td>-0.024239</td>\n",
       "      <td>-0.041736</td>\n",
       "      <td>0.081374</td>\n",
       "      <td>0.071826</td>\n",
       "      <td>-0.029237</td>\n",
       "    </tr>\n",
       "    <tr>\n",
       "      <th>revol.bal</th>\n",
       "      <td>-0.187518</td>\n",
       "      <td>0.092527</td>\n",
       "      <td>0.233625</td>\n",
       "      <td>0.372140</td>\n",
       "      <td>0.188748</td>\n",
       "      <td>-0.015553</td>\n",
       "      <td>0.229344</td>\n",
       "      <td>1.000000</td>\n",
       "      <td>0.203779</td>\n",
       "      <td>0.022394</td>\n",
       "      <td>-0.033243</td>\n",
       "      <td>-0.031010</td>\n",
       "      <td>0.053699</td>\n",
       "    </tr>\n",
       "    <tr>\n",
       "      <th>revol.util</th>\n",
       "      <td>-0.104095</td>\n",
       "      <td>0.464837</td>\n",
       "      <td>0.081356</td>\n",
       "      <td>0.054881</td>\n",
       "      <td>0.337109</td>\n",
       "      <td>-0.541289</td>\n",
       "      <td>-0.024239</td>\n",
       "      <td>0.203779</td>\n",
       "      <td>1.000000</td>\n",
       "      <td>-0.013880</td>\n",
       "      <td>-0.042740</td>\n",
       "      <td>0.066717</td>\n",
       "      <td>0.082088</td>\n",
       "    </tr>\n",
       "    <tr>\n",
       "      <th>inq.last.6mths</th>\n",
       "      <td>-0.535511</td>\n",
       "      <td>0.202780</td>\n",
       "      <td>-0.010419</td>\n",
       "      <td>0.029171</td>\n",
       "      <td>0.029189</td>\n",
       "      <td>-0.185293</td>\n",
       "      <td>-0.041736</td>\n",
       "      <td>0.022394</td>\n",
       "      <td>-0.013880</td>\n",
       "      <td>1.000000</td>\n",
       "      <td>0.021245</td>\n",
       "      <td>0.072673</td>\n",
       "      <td>0.149452</td>\n",
       "    </tr>\n",
       "    <tr>\n",
       "      <th>delinq.2yrs</th>\n",
       "      <td>-0.076318</td>\n",
       "      <td>0.156079</td>\n",
       "      <td>-0.004368</td>\n",
       "      <td>0.029203</td>\n",
       "      <td>-0.021792</td>\n",
       "      <td>-0.216340</td>\n",
       "      <td>0.081374</td>\n",
       "      <td>-0.033243</td>\n",
       "      <td>-0.042740</td>\n",
       "      <td>0.021245</td>\n",
       "      <td>1.000000</td>\n",
       "      <td>0.009184</td>\n",
       "      <td>0.008881</td>\n",
       "    </tr>\n",
       "    <tr>\n",
       "      <th>pub.rec</th>\n",
       "      <td>-0.054243</td>\n",
       "      <td>0.098162</td>\n",
       "      <td>-0.032760</td>\n",
       "      <td>0.016506</td>\n",
       "      <td>0.006209</td>\n",
       "      <td>-0.147592</td>\n",
       "      <td>0.071826</td>\n",
       "      <td>-0.031010</td>\n",
       "      <td>0.066717</td>\n",
       "      <td>0.072673</td>\n",
       "      <td>0.009184</td>\n",
       "      <td>1.000000</td>\n",
       "      <td>0.048634</td>\n",
       "    </tr>\n",
       "    <tr>\n",
       "      <th>not.fully.paid</th>\n",
       "      <td>-0.158119</td>\n",
       "      <td>0.159552</td>\n",
       "      <td>0.049955</td>\n",
       "      <td>-0.033439</td>\n",
       "      <td>0.037362</td>\n",
       "      <td>-0.149666</td>\n",
       "      <td>-0.029237</td>\n",
       "      <td>0.053699</td>\n",
       "      <td>0.082088</td>\n",
       "      <td>0.149452</td>\n",
       "      <td>0.008881</td>\n",
       "      <td>0.048634</td>\n",
       "      <td>1.000000</td>\n",
       "    </tr>\n",
       "  </tbody>\n",
       "</table>\n",
       "</div>"
      ],
      "text/plain": [
       "                   credit.policy  int.rate  installment  log.annual.inc  \\\n",
       "credit.policy           1.000000 -0.294089     0.058770        0.034906   \n",
       "int.rate               -0.294089  1.000000     0.276140        0.056383   \n",
       "installment             0.058770  0.276140     1.000000        0.448102   \n",
       "log.annual.inc          0.034906  0.056383     0.448102        1.000000   \n",
       "dti                    -0.090901  0.220006     0.050202       -0.054065   \n",
       "fico                    0.348319 -0.714821     0.086039        0.114576   \n",
       "days.with.cr.line       0.099026 -0.124022     0.183297        0.336896   \n",
       "revol.bal              -0.187518  0.092527     0.233625        0.372140   \n",
       "revol.util             -0.104095  0.464837     0.081356        0.054881   \n",
       "inq.last.6mths         -0.535511  0.202780    -0.010419        0.029171   \n",
       "delinq.2yrs            -0.076318  0.156079    -0.004368        0.029203   \n",
       "pub.rec                -0.054243  0.098162    -0.032760        0.016506   \n",
       "not.fully.paid         -0.158119  0.159552     0.049955       -0.033439   \n",
       "\n",
       "                        dti      fico  days.with.cr.line  revol.bal  \\\n",
       "credit.policy     -0.090901  0.348319           0.099026  -0.187518   \n",
       "int.rate           0.220006 -0.714821          -0.124022   0.092527   \n",
       "installment        0.050202  0.086039           0.183297   0.233625   \n",
       "log.annual.inc    -0.054065  0.114576           0.336896   0.372140   \n",
       "dti                1.000000 -0.241191           0.060101   0.188748   \n",
       "fico              -0.241191  1.000000           0.263880  -0.015553   \n",
       "days.with.cr.line  0.060101  0.263880           1.000000   0.229344   \n",
       "revol.bal          0.188748 -0.015553           0.229344   1.000000   \n",
       "revol.util         0.337109 -0.541289          -0.024239   0.203779   \n",
       "inq.last.6mths     0.029189 -0.185293          -0.041736   0.022394   \n",
       "delinq.2yrs       -0.021792 -0.216340           0.081374  -0.033243   \n",
       "pub.rec            0.006209 -0.147592           0.071826  -0.031010   \n",
       "not.fully.paid     0.037362 -0.149666          -0.029237   0.053699   \n",
       "\n",
       "                   revol.util  inq.last.6mths  delinq.2yrs   pub.rec  \\\n",
       "credit.policy       -0.104095       -0.535511    -0.076318 -0.054243   \n",
       "int.rate             0.464837        0.202780     0.156079  0.098162   \n",
       "installment          0.081356       -0.010419    -0.004368 -0.032760   \n",
       "log.annual.inc       0.054881        0.029171     0.029203  0.016506   \n",
       "dti                  0.337109        0.029189    -0.021792  0.006209   \n",
       "fico                -0.541289       -0.185293    -0.216340 -0.147592   \n",
       "days.with.cr.line   -0.024239       -0.041736     0.081374  0.071826   \n",
       "revol.bal            0.203779        0.022394    -0.033243 -0.031010   \n",
       "revol.util           1.000000       -0.013880    -0.042740  0.066717   \n",
       "inq.last.6mths      -0.013880        1.000000     0.021245  0.072673   \n",
       "delinq.2yrs         -0.042740        0.021245     1.000000  0.009184   \n",
       "pub.rec              0.066717        0.072673     0.009184  1.000000   \n",
       "not.fully.paid       0.082088        0.149452     0.008881  0.048634   \n",
       "\n",
       "                   not.fully.paid  \n",
       "credit.policy           -0.158119  \n",
       "int.rate                 0.159552  \n",
       "installment              0.049955  \n",
       "log.annual.inc          -0.033439  \n",
       "dti                      0.037362  \n",
       "fico                    -0.149666  \n",
       "days.with.cr.line       -0.029237  \n",
       "revol.bal                0.053699  \n",
       "revol.util               0.082088  \n",
       "inq.last.6mths           0.149452  \n",
       "delinq.2yrs              0.008881  \n",
       "pub.rec                  0.048634  \n",
       "not.fully.paid           1.000000  "
      ]
     },
     "execution_count": 27,
     "metadata": {},
     "output_type": "execute_result"
    }
   ],
   "source": [
    "df.corr()"
   ]
  },
  {
   "cell_type": "code",
   "execution_count": null,
   "id": "5d7d329b-f85f-44c2-b815-b10640b023ac",
   "metadata": {},
   "outputs": [],
   "source": []
  },
  {
   "cell_type": "code",
   "execution_count": null,
   "id": "fc3006e6-89a4-4bbb-8e3d-d8030cbc7d29",
   "metadata": {},
   "outputs": [],
   "source": []
  },
  {
   "cell_type": "code",
   "execution_count": 19,
   "id": "4e9d91e2-1e51-4089-8a27-0ce3c4f232dc",
   "metadata": {},
   "outputs": [
    {
     "data": {
      "text/html": [
       "<div>\n",
       "<style scoped>\n",
       "    .dataframe tbody tr th:only-of-type {\n",
       "        vertical-align: middle;\n",
       "    }\n",
       "\n",
       "    .dataframe tbody tr th {\n",
       "        vertical-align: top;\n",
       "    }\n",
       "\n",
       "    .dataframe thead th {\n",
       "        text-align: right;\n",
       "    }\n",
       "</style>\n",
       "<table border=\"1\" class=\"dataframe\">\n",
       "  <thead>\n",
       "    <tr style=\"text-align: right;\">\n",
       "      <th></th>\n",
       "      <th>credit.policy</th>\n",
       "      <th>purpose</th>\n",
       "      <th>int.rate</th>\n",
       "      <th>installment</th>\n",
       "      <th>log.annual.inc</th>\n",
       "      <th>dti</th>\n",
       "      <th>fico</th>\n",
       "      <th>days.with.cr.line</th>\n",
       "      <th>revol.bal</th>\n",
       "      <th>revol.util</th>\n",
       "      <th>inq.last.6mths</th>\n",
       "      <th>delinq.2yrs</th>\n",
       "      <th>pub.rec</th>\n",
       "      <th>not.fully.paid</th>\n",
       "    </tr>\n",
       "  </thead>\n",
       "  <tbody>\n",
       "    <tr>\n",
       "      <th>0</th>\n",
       "      <td>1</td>\n",
       "      <td>debt_consolidation</td>\n",
       "      <td>0.1253</td>\n",
       "      <td>317.72</td>\n",
       "      <td>11.0021</td>\n",
       "      <td>0.0</td>\n",
       "      <td>687</td>\n",
       "      <td>3660.0</td>\n",
       "      <td>0</td>\n",
       "      <td>0.0</td>\n",
       "      <td>0</td>\n",
       "      <td>0</td>\n",
       "      <td>0</td>\n",
       "      <td>0</td>\n",
       "    </tr>\n",
       "  </tbody>\n",
       "</table>\n",
       "</div>"
      ],
      "text/plain": [
       "   credit.policy             purpose  int.rate  installment  log.annual.inc  \\\n",
       "0              1  debt_consolidation    0.1253       317.72         11.0021   \n",
       "\n",
       "   dti  fico  days.with.cr.line  revol.bal  revol.util  inq.last.6mths  \\\n",
       "0  0.0   687             3660.0          0         0.0               0   \n",
       "\n",
       "   delinq.2yrs  pub.rec  not.fully.paid  \n",
       "0            0        0               0  "
      ]
     },
     "execution_count": 19,
     "metadata": {},
     "output_type": "execute_result"
    }
   ],
   "source": [
    "df.mode()"
   ]
  },
  {
   "cell_type": "code",
   "execution_count": 34,
   "id": "330fac3a-d693-42c2-ad5f-728edf059d4a",
   "metadata": {},
   "outputs": [
    {
     "data": {
      "text/plain": [
       "0       829.10\n",
       "1       228.22\n",
       "2       366.86\n",
       "3       162.34\n",
       "4       102.92\n",
       "         ...  \n",
       "9573    344.76\n",
       "9574    257.70\n",
       "9575     97.81\n",
       "9576    351.58\n",
       "9577    853.43\n",
       "Name: installment, Length: 9578, dtype: float64"
      ]
     },
     "execution_count": 34,
     "metadata": {},
     "output_type": "execute_result"
    }
   ],
   "source": [
    "df[\"installment\"].abs()"
   ]
  },
  {
   "cell_type": "markdown",
   "id": "f2d71aba-7cc0-4f0c-a730-c68cc2d78363",
   "metadata": {},
   "source": [
    "# 15- what is the sum of revol.util?"
   ]
  },
  {
   "cell_type": "code",
   "execution_count": 35,
   "id": "3db18a30-75da-4259-b311-96d53911aca7",
   "metadata": {},
   "outputs": [
    {
     "data": {
      "text/plain": [
       "448243.07999999996"
      ]
     },
     "execution_count": 35,
     "metadata": {},
     "output_type": "execute_result"
    }
   ],
   "source": [
    "df[\"revol.util\"].sum()"
   ]
  },
  {
   "cell_type": "markdown",
   "id": "d7493c9a-d380-481f-badb-c5bfffa2c886",
   "metadata": {},
   "source": [
    "# 16-what is the sum of revol.bal?"
   ]
  },
  {
   "cell_type": "code",
   "execution_count": 36,
   "id": "b69a9811-e416-4db5-b511-4f7ece69fae9",
   "metadata": {},
   "outputs": [
    {
     "data": {
      "text/plain": [
       "162001946"
      ]
     },
     "execution_count": 36,
     "metadata": {},
     "output_type": "execute_result"
    }
   ],
   "source": [
    "df[\"revol.bal\"].sum()"
   ]
  },
  {
   "cell_type": "code",
   "execution_count": 42,
   "id": "c34e78fc-2c89-4dc5-bc79-609f99a17f8b",
   "metadata": {},
   "outputs": [
    {
     "data": {
      "text/html": [
       "<div>\n",
       "<style scoped>\n",
       "    .dataframe tbody tr th:only-of-type {\n",
       "        vertical-align: middle;\n",
       "    }\n",
       "\n",
       "    .dataframe tbody tr th {\n",
       "        vertical-align: top;\n",
       "    }\n",
       "\n",
       "    .dataframe thead th {\n",
       "        text-align: right;\n",
       "    }\n",
       "</style>\n",
       "<table border=\"1\" class=\"dataframe\">\n",
       "  <thead>\n",
       "    <tr style=\"text-align: right;\">\n",
       "      <th></th>\n",
       "      <th>credit.policy</th>\n",
       "      <th>purpose</th>\n",
       "      <th>int.rate</th>\n",
       "      <th>installment</th>\n",
       "      <th>log.annual.inc</th>\n",
       "      <th>dti</th>\n",
       "      <th>fico</th>\n",
       "      <th>days.with.cr.line</th>\n",
       "      <th>revol.bal</th>\n",
       "      <th>revol.util</th>\n",
       "      <th>inq.last.6mths</th>\n",
       "      <th>delinq.2yrs</th>\n",
       "      <th>pub.rec</th>\n",
       "      <th>not.fully.paid</th>\n",
       "    </tr>\n",
       "  </thead>\n",
       "  <tbody>\n",
       "    <tr>\n",
       "      <th>0</th>\n",
       "      <td>1</td>\n",
       "      <td>debt_consolidation</td>\n",
       "      <td>0.1189</td>\n",
       "      <td>829.10</td>\n",
       "      <td>11.350407</td>\n",
       "      <td>19.48</td>\n",
       "      <td>737</td>\n",
       "      <td>5.639958e+03</td>\n",
       "      <td>28854</td>\n",
       "      <td>52.10</td>\n",
       "      <td>0</td>\n",
       "      <td>0</td>\n",
       "      <td>0</td>\n",
       "      <td>0</td>\n",
       "    </tr>\n",
       "    <tr>\n",
       "      <th>1</th>\n",
       "      <td>2</td>\n",
       "      <td>debt_consolidationcredit_card</td>\n",
       "      <td>0.2260</td>\n",
       "      <td>1057.32</td>\n",
       "      <td>22.432549</td>\n",
       "      <td>33.77</td>\n",
       "      <td>1444</td>\n",
       "      <td>8.399958e+03</td>\n",
       "      <td>62477</td>\n",
       "      <td>128.80</td>\n",
       "      <td>0</td>\n",
       "      <td>0</td>\n",
       "      <td>0</td>\n",
       "      <td>0</td>\n",
       "    </tr>\n",
       "    <tr>\n",
       "      <th>2</th>\n",
       "      <td>3</td>\n",
       "      <td>debt_consolidationcredit_carddebt_consolidation</td>\n",
       "      <td>0.3617</td>\n",
       "      <td>1424.18</td>\n",
       "      <td>32.806040</td>\n",
       "      <td>45.40</td>\n",
       "      <td>2126</td>\n",
       "      <td>1.310996e+04</td>\n",
       "      <td>65988</td>\n",
       "      <td>154.40</td>\n",
       "      <td>1</td>\n",
       "      <td>0</td>\n",
       "      <td>0</td>\n",
       "      <td>0</td>\n",
       "    </tr>\n",
       "    <tr>\n",
       "      <th>3</th>\n",
       "      <td>4</td>\n",
       "      <td>debt_consolidationcredit_carddebt_consolidatio...</td>\n",
       "      <td>0.4625</td>\n",
       "      <td>1586.52</td>\n",
       "      <td>44.156447</td>\n",
       "      <td>53.50</td>\n",
       "      <td>2838</td>\n",
       "      <td>1.580992e+04</td>\n",
       "      <td>99655</td>\n",
       "      <td>227.60</td>\n",
       "      <td>2</td>\n",
       "      <td>0</td>\n",
       "      <td>0</td>\n",
       "      <td>0</td>\n",
       "    </tr>\n",
       "    <tr>\n",
       "      <th>4</th>\n",
       "      <td>5</td>\n",
       "      <td>debt_consolidationcredit_carddebt_consolidatio...</td>\n",
       "      <td>0.6051</td>\n",
       "      <td>1689.44</td>\n",
       "      <td>55.456179</td>\n",
       "      <td>68.47</td>\n",
       "      <td>3505</td>\n",
       "      <td>1.987592e+04</td>\n",
       "      <td>104395</td>\n",
       "      <td>267.10</td>\n",
       "      <td>2</td>\n",
       "      <td>1</td>\n",
       "      <td>0</td>\n",
       "      <td>0</td>\n",
       "    </tr>\n",
       "    <tr>\n",
       "      <th>...</th>\n",
       "      <td>...</td>\n",
       "      <td>...</td>\n",
       "      <td>...</td>\n",
       "      <td>...</td>\n",
       "      <td>...</td>\n",
       "      <td>...</td>\n",
       "      <td>...</td>\n",
       "      <td>...</td>\n",
       "      <td>...</td>\n",
       "      <td>...</td>\n",
       "      <td>...</td>\n",
       "      <td>...</td>\n",
       "      <td>...</td>\n",
       "      <td>...</td>\n",
       "    </tr>\n",
       "    <tr>\n",
       "      <th>9573</th>\n",
       "      <td>7710</td>\n",
       "      <td>debt_consolidationcredit_carddebt_consolidatio...</td>\n",
       "      <td>1174.1149</td>\n",
       "      <td>3054677.88</td>\n",
       "      <td>104663.995207</td>\n",
       "      <td>120698.01</td>\n",
       "      <td>6805653</td>\n",
       "      <td>4.366866e+07</td>\n",
       "      <td>161953847</td>\n",
       "      <td>448098.88</td>\n",
       "      <td>15085</td>\n",
       "      <td>1568</td>\n",
       "      <td>595</td>\n",
       "      <td>1529</td>\n",
       "    </tr>\n",
       "    <tr>\n",
       "      <th>9574</th>\n",
       "      <td>7710</td>\n",
       "      <td>debt_consolidationcredit_carddebt_consolidatio...</td>\n",
       "      <td>1174.2402</td>\n",
       "      <td>3054935.58</td>\n",
       "      <td>104675.137069</td>\n",
       "      <td>120698.22</td>\n",
       "      <td>6806375</td>\n",
       "      <td>4.367304e+07</td>\n",
       "      <td>161954031</td>\n",
       "      <td>448099.98</td>\n",
       "      <td>15090</td>\n",
       "      <td>1568</td>\n",
       "      <td>595</td>\n",
       "      <td>1530</td>\n",
       "    </tr>\n",
       "    <tr>\n",
       "      <th>9575</th>\n",
       "      <td>7710</td>\n",
       "      <td>debt_consolidationcredit_carddebt_consolidatio...</td>\n",
       "      <td>1174.3473</td>\n",
       "      <td>3055033.39</td>\n",
       "      <td>104685.733703</td>\n",
       "      <td>120711.31</td>\n",
       "      <td>6807062</td>\n",
       "      <td>4.367649e+07</td>\n",
       "      <td>161964067</td>\n",
       "      <td>448182.88</td>\n",
       "      <td>15098</td>\n",
       "      <td>1568</td>\n",
       "      <td>595</td>\n",
       "      <td>1531</td>\n",
       "    </tr>\n",
       "    <tr>\n",
       "      <th>9576</th>\n",
       "      <td>7710</td>\n",
       "      <td>debt_consolidationcredit_carddebt_consolidatio...</td>\n",
       "      <td>1174.5073</td>\n",
       "      <td>3055384.97</td>\n",
       "      <td>104696.553482</td>\n",
       "      <td>120730.49</td>\n",
       "      <td>6807754</td>\n",
       "      <td>4.367829e+07</td>\n",
       "      <td>161964067</td>\n",
       "      <td>448186.08</td>\n",
       "      <td>15103</td>\n",
       "      <td>1568</td>\n",
       "      <td>595</td>\n",
       "      <td>1532</td>\n",
       "    </tr>\n",
       "    <tr>\n",
       "      <th>9577</th>\n",
       "      <td>7710</td>\n",
       "      <td>debt_consolidationcredit_carddebt_consolidatio...</td>\n",
       "      <td>1174.6465</td>\n",
       "      <td>3056238.40</td>\n",
       "      <td>104707.817946</td>\n",
       "      <td>120746.77</td>\n",
       "      <td>6808486</td>\n",
       "      <td>4.368303e+07</td>\n",
       "      <td>162001946</td>\n",
       "      <td>448243.08</td>\n",
       "      <td>15109</td>\n",
       "      <td>1568</td>\n",
       "      <td>595</td>\n",
       "      <td>1533</td>\n",
       "    </tr>\n",
       "  </tbody>\n",
       "</table>\n",
       "<p>9578 rows × 14 columns</p>\n",
       "</div>"
      ],
      "text/plain": [
       "      credit.policy                                            purpose  \\\n",
       "0                 1                                 debt_consolidation   \n",
       "1                 2                      debt_consolidationcredit_card   \n",
       "2                 3    debt_consolidationcredit_carddebt_consolidation   \n",
       "3                 4  debt_consolidationcredit_carddebt_consolidatio...   \n",
       "4                 5  debt_consolidationcredit_carddebt_consolidatio...   \n",
       "...             ...                                                ...   \n",
       "9573           7710  debt_consolidationcredit_carddebt_consolidatio...   \n",
       "9574           7710  debt_consolidationcredit_carddebt_consolidatio...   \n",
       "9575           7710  debt_consolidationcredit_carddebt_consolidatio...   \n",
       "9576           7710  debt_consolidationcredit_carddebt_consolidatio...   \n",
       "9577           7710  debt_consolidationcredit_carddebt_consolidatio...   \n",
       "\n",
       "       int.rate  installment  log.annual.inc        dti     fico  \\\n",
       "0        0.1189       829.10       11.350407      19.48      737   \n",
       "1        0.2260      1057.32       22.432549      33.77     1444   \n",
       "2        0.3617      1424.18       32.806040      45.40     2126   \n",
       "3        0.4625      1586.52       44.156447      53.50     2838   \n",
       "4        0.6051      1689.44       55.456179      68.47     3505   \n",
       "...         ...          ...             ...        ...      ...   \n",
       "9573  1174.1149   3054677.88   104663.995207  120698.01  6805653   \n",
       "9574  1174.2402   3054935.58   104675.137069  120698.22  6806375   \n",
       "9575  1174.3473   3055033.39   104685.733703  120711.31  6807062   \n",
       "9576  1174.5073   3055384.97   104696.553482  120730.49  6807754   \n",
       "9577  1174.6465   3056238.40   104707.817946  120746.77  6808486   \n",
       "\n",
       "      days.with.cr.line  revol.bal  revol.util  inq.last.6mths  delinq.2yrs  \\\n",
       "0          5.639958e+03      28854       52.10               0            0   \n",
       "1          8.399958e+03      62477      128.80               0            0   \n",
       "2          1.310996e+04      65988      154.40               1            0   \n",
       "3          1.580992e+04      99655      227.60               2            0   \n",
       "4          1.987592e+04     104395      267.10               2            1   \n",
       "...                 ...        ...         ...             ...          ...   \n",
       "9573       4.366866e+07  161953847   448098.88           15085         1568   \n",
       "9574       4.367304e+07  161954031   448099.98           15090         1568   \n",
       "9575       4.367649e+07  161964067   448182.88           15098         1568   \n",
       "9576       4.367829e+07  161964067   448186.08           15103         1568   \n",
       "9577       4.368303e+07  162001946   448243.08           15109         1568   \n",
       "\n",
       "      pub.rec  not.fully.paid  \n",
       "0           0               0  \n",
       "1           0               0  \n",
       "2           0               0  \n",
       "3           0               0  \n",
       "4           0               0  \n",
       "...       ...             ...  \n",
       "9573      595            1529  \n",
       "9574      595            1530  \n",
       "9575      595            1531  \n",
       "9576      595            1532  \n",
       "9577      595            1533  \n",
       "\n",
       "[9578 rows x 14 columns]"
      ]
     },
     "execution_count": 42,
     "metadata": {},
     "output_type": "execute_result"
    }
   ],
   "source": [
    " df.cumsum()"
   ]
  },
  {
   "cell_type": "code",
   "execution_count": null,
   "id": "7c2841c4-90b4-47d9-9685-ad0a6ab67fd8",
   "metadata": {},
   "outputs": [],
   "source": []
  },
  {
   "cell_type": "code",
   "execution_count": null,
   "id": "1584c030-afa9-4e3d-a539-8fbc9d485919",
   "metadata": {},
   "outputs": [],
   "source": []
  }
 ],
 "metadata": {
  "kernelspec": {
   "display_name": "Python 3 (ipykernel)",
   "language": "python",
   "name": "python3"
  },
  "language_info": {
   "codemirror_mode": {
    "name": "ipython",
    "version": 3
   },
   "file_extension": ".py",
   "mimetype": "text/x-python",
   "name": "python",
   "nbconvert_exporter": "python",
   "pygments_lexer": "ipython3",
   "version": "3.10.9"
  }
 },
 "nbformat": 4,
 "nbformat_minor": 5
}
